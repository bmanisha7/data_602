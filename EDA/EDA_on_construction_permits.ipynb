{
  "nbformat": 4,
  "nbformat_minor": 0,
  "metadata": {
    "colab": {
      "name": "EDA on construction permits",
      "provenance": [],
      "collapsed_sections": []
    },
    "kernelspec": {
      "name": "python3",
      "display_name": "Python 3"
    },
    "language_info": {
      "name": "python"
    }
  },
  "cells": [
    {
      "cell_type": "markdown",
      "source": [
        "### Importing libraries"
      ],
      "metadata": {
        "id": "-Cn5iWIUkMIY"
      }
    },
    {
      "cell_type": "code",
      "source": [
        "import pandas as pd\n",
        "import numpy as np\n",
        "%matplotlib inline\n",
        "import matplotlib.pyplot as plt\n",
        "import seaborn as sns\n"
      ],
      "metadata": {
        "id": "N_dapokZV3U4"
      },
      "execution_count": 1,
      "outputs": []
    },
    {
      "cell_type": "markdown",
      "source": [
        "### Loading data"
      ],
      "metadata": {
        "id": "IDotFsvhkQ_A"
      }
    },
    {
      "cell_type": "code",
      "source": [
        "df = pd.read_csv(\"Construction_Permits_in_2020.csv\")"
      ],
      "metadata": {
        "id": "mH74frGvK9u-"
      },
      "execution_count": 2,
      "outputs": []
    },
    {
      "cell_type": "code",
      "source": [
        "df.head()"
      ],
      "metadata": {
        "colab": {
          "base_uri": "https://localhost:8080/",
          "height": 560
        },
        "id": "PbYuAfKxLP2u",
        "outputId": "2b8b5655-a717-4902-eb2d-9f357fc0d2cf"
      },
      "execution_count": 3,
      "outputs": [
        {
          "output_type": "execute_result",
          "data": {
            "text/plain": [
              "           X          Y   OBJECTID         APPLICATIONDATE ISEXCAVATION  \\\n",
              "0 -76.955760  38.895931  109851535  2020/01/10 12:17:46+00            T   \n",
              "1 -77.006316  38.906668  109851536  2019/12/26 14:16:46+00            T   \n",
              "2 -76.993523  38.837742  109851837  2019/09/16 13:38:08+00            F   \n",
              "3 -77.043455  38.904708  109852030  2019/04/27 15:08:40+00            F   \n",
              "4 -76.998446  38.904071  109852031  2019/04/27 15:10:44+00            F   \n",
              "\n",
              "  ISFIXTURE ISPAVING ISLANDSCAPING ISPROJECTIONS ISPSRENTAL  ...  \\\n",
              "0         F        F             F             F          F  ...   \n",
              "1         F        F             F             F          F  ...   \n",
              "2         F        F             F             F          F  ...   \n",
              "3         T        F             F             F          F  ...   \n",
              "4         T        F             F             F          F  ...   \n",
              "\n",
              "       READYFORREVIEWDATE            APPLICANTCOMPANYNAME   LATITUDE  \\\n",
              "0  2020/01/10 12:19:02+00  Potomac Electric Power Company  38.895923   \n",
              "1  2020/01/02 18:33:26+00   DFM Development Services, LLC  38.906660   \n",
              "2  2019/09/16 13:38:56+00  Potomac Electric Power Company  38.837734   \n",
              "3  2019/04/29 19:27:05+00    Crown Castle NG Atlantic LLC  38.904700   \n",
              "4  2019/04/29 19:21:25+00    Crown Castle NG Atlantic LLC  38.904063   \n",
              "\n",
              "   LONGITUDE GIS_ID                                GLOBALID  CREATOR  CREATED  \\\n",
              "0 -76.955757    NaN  {DBFD341C-27BB-7A4D-E053-782F520A79C2}      NaN      NaN   \n",
              "1 -77.006314    NaN  {DBFD341C-27BC-7A4D-E053-782F520A79C2}      NaN      NaN   \n",
              "2 -76.993521    NaN  {DBFD341C-28E9-7A4D-E053-782F520A79C2}      NaN      NaN   \n",
              "3 -77.043453    NaN  {DBFD341C-29AA-7A4D-E053-782F520A79C2}      NaN      NaN   \n",
              "4 -76.998444    NaN  {DBFD341C-29AB-7A4D-E053-782F520A79C2}      NaN      NaN   \n",
              "\n",
              "  EDITOR EDITED  \n",
              "0    NaN    NaN  \n",
              "1    NaN    NaN  \n",
              "2    NaN    NaN  \n",
              "3    NaN    NaN  \n",
              "4    NaN    NaN  \n",
              "\n",
              "[5 rows x 34 columns]"
            ],
            "text/html": [
              "\n",
              "  <div id=\"df-aec89491-5d05-42e7-a308-e989a7ac4a5f\">\n",
              "    <div class=\"colab-df-container\">\n",
              "      <div>\n",
              "<style scoped>\n",
              "    .dataframe tbody tr th:only-of-type {\n",
              "        vertical-align: middle;\n",
              "    }\n",
              "\n",
              "    .dataframe tbody tr th {\n",
              "        vertical-align: top;\n",
              "    }\n",
              "\n",
              "    .dataframe thead th {\n",
              "        text-align: right;\n",
              "    }\n",
              "</style>\n",
              "<table border=\"1\" class=\"dataframe\">\n",
              "  <thead>\n",
              "    <tr style=\"text-align: right;\">\n",
              "      <th></th>\n",
              "      <th>X</th>\n",
              "      <th>Y</th>\n",
              "      <th>OBJECTID</th>\n",
              "      <th>APPLICATIONDATE</th>\n",
              "      <th>ISEXCAVATION</th>\n",
              "      <th>ISFIXTURE</th>\n",
              "      <th>ISPAVING</th>\n",
              "      <th>ISLANDSCAPING</th>\n",
              "      <th>ISPROJECTIONS</th>\n",
              "      <th>ISPSRENTAL</th>\n",
              "      <th>...</th>\n",
              "      <th>READYFORREVIEWDATE</th>\n",
              "      <th>APPLICANTCOMPANYNAME</th>\n",
              "      <th>LATITUDE</th>\n",
              "      <th>LONGITUDE</th>\n",
              "      <th>GIS_ID</th>\n",
              "      <th>GLOBALID</th>\n",
              "      <th>CREATOR</th>\n",
              "      <th>CREATED</th>\n",
              "      <th>EDITOR</th>\n",
              "      <th>EDITED</th>\n",
              "    </tr>\n",
              "  </thead>\n",
              "  <tbody>\n",
              "    <tr>\n",
              "      <th>0</th>\n",
              "      <td>-76.955760</td>\n",
              "      <td>38.895931</td>\n",
              "      <td>109851535</td>\n",
              "      <td>2020/01/10 12:17:46+00</td>\n",
              "      <td>T</td>\n",
              "      <td>F</td>\n",
              "      <td>F</td>\n",
              "      <td>F</td>\n",
              "      <td>F</td>\n",
              "      <td>F</td>\n",
              "      <td>...</td>\n",
              "      <td>2020/01/10 12:19:02+00</td>\n",
              "      <td>Potomac Electric Power Company</td>\n",
              "      <td>38.895923</td>\n",
              "      <td>-76.955757</td>\n",
              "      <td>NaN</td>\n",
              "      <td>{DBFD341C-27BB-7A4D-E053-782F520A79C2}</td>\n",
              "      <td>NaN</td>\n",
              "      <td>NaN</td>\n",
              "      <td>NaN</td>\n",
              "      <td>NaN</td>\n",
              "    </tr>\n",
              "    <tr>\n",
              "      <th>1</th>\n",
              "      <td>-77.006316</td>\n",
              "      <td>38.906668</td>\n",
              "      <td>109851536</td>\n",
              "      <td>2019/12/26 14:16:46+00</td>\n",
              "      <td>T</td>\n",
              "      <td>F</td>\n",
              "      <td>F</td>\n",
              "      <td>F</td>\n",
              "      <td>F</td>\n",
              "      <td>F</td>\n",
              "      <td>...</td>\n",
              "      <td>2020/01/02 18:33:26+00</td>\n",
              "      <td>DFM Development Services, LLC</td>\n",
              "      <td>38.906660</td>\n",
              "      <td>-77.006314</td>\n",
              "      <td>NaN</td>\n",
              "      <td>{DBFD341C-27BC-7A4D-E053-782F520A79C2}</td>\n",
              "      <td>NaN</td>\n",
              "      <td>NaN</td>\n",
              "      <td>NaN</td>\n",
              "      <td>NaN</td>\n",
              "    </tr>\n",
              "    <tr>\n",
              "      <th>2</th>\n",
              "      <td>-76.993523</td>\n",
              "      <td>38.837742</td>\n",
              "      <td>109851837</td>\n",
              "      <td>2019/09/16 13:38:08+00</td>\n",
              "      <td>F</td>\n",
              "      <td>F</td>\n",
              "      <td>F</td>\n",
              "      <td>F</td>\n",
              "      <td>F</td>\n",
              "      <td>F</td>\n",
              "      <td>...</td>\n",
              "      <td>2019/09/16 13:38:56+00</td>\n",
              "      <td>Potomac Electric Power Company</td>\n",
              "      <td>38.837734</td>\n",
              "      <td>-76.993521</td>\n",
              "      <td>NaN</td>\n",
              "      <td>{DBFD341C-28E9-7A4D-E053-782F520A79C2}</td>\n",
              "      <td>NaN</td>\n",
              "      <td>NaN</td>\n",
              "      <td>NaN</td>\n",
              "      <td>NaN</td>\n",
              "    </tr>\n",
              "    <tr>\n",
              "      <th>3</th>\n",
              "      <td>-77.043455</td>\n",
              "      <td>38.904708</td>\n",
              "      <td>109852030</td>\n",
              "      <td>2019/04/27 15:08:40+00</td>\n",
              "      <td>F</td>\n",
              "      <td>T</td>\n",
              "      <td>F</td>\n",
              "      <td>F</td>\n",
              "      <td>F</td>\n",
              "      <td>F</td>\n",
              "      <td>...</td>\n",
              "      <td>2019/04/29 19:27:05+00</td>\n",
              "      <td>Crown Castle NG Atlantic LLC</td>\n",
              "      <td>38.904700</td>\n",
              "      <td>-77.043453</td>\n",
              "      <td>NaN</td>\n",
              "      <td>{DBFD341C-29AA-7A4D-E053-782F520A79C2}</td>\n",
              "      <td>NaN</td>\n",
              "      <td>NaN</td>\n",
              "      <td>NaN</td>\n",
              "      <td>NaN</td>\n",
              "    </tr>\n",
              "    <tr>\n",
              "      <th>4</th>\n",
              "      <td>-76.998446</td>\n",
              "      <td>38.904071</td>\n",
              "      <td>109852031</td>\n",
              "      <td>2019/04/27 15:10:44+00</td>\n",
              "      <td>F</td>\n",
              "      <td>T</td>\n",
              "      <td>F</td>\n",
              "      <td>F</td>\n",
              "      <td>F</td>\n",
              "      <td>F</td>\n",
              "      <td>...</td>\n",
              "      <td>2019/04/29 19:21:25+00</td>\n",
              "      <td>Crown Castle NG Atlantic LLC</td>\n",
              "      <td>38.904063</td>\n",
              "      <td>-76.998444</td>\n",
              "      <td>NaN</td>\n",
              "      <td>{DBFD341C-29AB-7A4D-E053-782F520A79C2}</td>\n",
              "      <td>NaN</td>\n",
              "      <td>NaN</td>\n",
              "      <td>NaN</td>\n",
              "      <td>NaN</td>\n",
              "    </tr>\n",
              "  </tbody>\n",
              "</table>\n",
              "<p>5 rows × 34 columns</p>\n",
              "</div>\n",
              "      <button class=\"colab-df-convert\" onclick=\"convertToInteractive('df-aec89491-5d05-42e7-a308-e989a7ac4a5f')\"\n",
              "              title=\"Convert this dataframe to an interactive table.\"\n",
              "              style=\"display:none;\">\n",
              "        \n",
              "  <svg xmlns=\"http://www.w3.org/2000/svg\" height=\"24px\"viewBox=\"0 0 24 24\"\n",
              "       width=\"24px\">\n",
              "    <path d=\"M0 0h24v24H0V0z\" fill=\"none\"/>\n",
              "    <path d=\"M18.56 5.44l.94 2.06.94-2.06 2.06-.94-2.06-.94-.94-2.06-.94 2.06-2.06.94zm-11 1L8.5 8.5l.94-2.06 2.06-.94-2.06-.94L8.5 2.5l-.94 2.06-2.06.94zm10 10l.94 2.06.94-2.06 2.06-.94-2.06-.94-.94-2.06-.94 2.06-2.06.94z\"/><path d=\"M17.41 7.96l-1.37-1.37c-.4-.4-.92-.59-1.43-.59-.52 0-1.04.2-1.43.59L10.3 9.45l-7.72 7.72c-.78.78-.78 2.05 0 2.83L4 21.41c.39.39.9.59 1.41.59.51 0 1.02-.2 1.41-.59l7.78-7.78 2.81-2.81c.8-.78.8-2.07 0-2.86zM5.41 20L4 18.59l7.72-7.72 1.47 1.35L5.41 20z\"/>\n",
              "  </svg>\n",
              "      </button>\n",
              "      \n",
              "  <style>\n",
              "    .colab-df-container {\n",
              "      display:flex;\n",
              "      flex-wrap:wrap;\n",
              "      gap: 12px;\n",
              "    }\n",
              "\n",
              "    .colab-df-convert {\n",
              "      background-color: #E8F0FE;\n",
              "      border: none;\n",
              "      border-radius: 50%;\n",
              "      cursor: pointer;\n",
              "      display: none;\n",
              "      fill: #1967D2;\n",
              "      height: 32px;\n",
              "      padding: 0 0 0 0;\n",
              "      width: 32px;\n",
              "    }\n",
              "\n",
              "    .colab-df-convert:hover {\n",
              "      background-color: #E2EBFA;\n",
              "      box-shadow: 0px 1px 2px rgba(60, 64, 67, 0.3), 0px 1px 3px 1px rgba(60, 64, 67, 0.15);\n",
              "      fill: #174EA6;\n",
              "    }\n",
              "\n",
              "    [theme=dark] .colab-df-convert {\n",
              "      background-color: #3B4455;\n",
              "      fill: #D2E3FC;\n",
              "    }\n",
              "\n",
              "    [theme=dark] .colab-df-convert:hover {\n",
              "      background-color: #434B5C;\n",
              "      box-shadow: 0px 1px 3px 1px rgba(0, 0, 0, 0.15);\n",
              "      filter: drop-shadow(0px 1px 2px rgba(0, 0, 0, 0.3));\n",
              "      fill: #FFFFFF;\n",
              "    }\n",
              "  </style>\n",
              "\n",
              "      <script>\n",
              "        const buttonEl =\n",
              "          document.querySelector('#df-aec89491-5d05-42e7-a308-e989a7ac4a5f button.colab-df-convert');\n",
              "        buttonEl.style.display =\n",
              "          google.colab.kernel.accessAllowed ? 'block' : 'none';\n",
              "\n",
              "        async function convertToInteractive(key) {\n",
              "          const element = document.querySelector('#df-aec89491-5d05-42e7-a308-e989a7ac4a5f');\n",
              "          const dataTable =\n",
              "            await google.colab.kernel.invokeFunction('convertToInteractive',\n",
              "                                                     [key], {});\n",
              "          if (!dataTable) return;\n",
              "\n",
              "          const docLinkHtml = 'Like what you see? Visit the ' +\n",
              "            '<a target=\"_blank\" href=https://colab.research.google.com/notebooks/data_table.ipynb>data table notebook</a>'\n",
              "            + ' to learn more about interactive tables.';\n",
              "          element.innerHTML = '';\n",
              "          dataTable['output_type'] = 'display_data';\n",
              "          await google.colab.output.renderOutput(dataTable, element);\n",
              "          const docLink = document.createElement('div');\n",
              "          docLink.innerHTML = docLinkHtml;\n",
              "          element.appendChild(docLink);\n",
              "        }\n",
              "      </script>\n",
              "    </div>\n",
              "  </div>\n",
              "  "
            ]
          },
          "metadata": {},
          "execution_count": 3
        }
      ]
    },
    {
      "cell_type": "code",
      "source": [
        "df.shape"
      ],
      "metadata": {
        "colab": {
          "base_uri": "https://localhost:8080/"
        },
        "id": "YJYVJ7hALRBg",
        "outputId": "14b5cf2a-1b5c-4c56-b59f-b4622bc2506b"
      },
      "execution_count": 4,
      "outputs": [
        {
          "output_type": "execute_result",
          "data": {
            "text/plain": [
              "(21506, 34)"
            ]
          },
          "metadata": {},
          "execution_count": 4
        }
      ]
    },
    {
      "cell_type": "code",
      "source": [
        "df.describe()"
      ],
      "metadata": {
        "colab": {
          "base_uri": "https://localhost:8080/",
          "height": 300
        },
        "id": "tnzBZIv5QfC0",
        "outputId": "506fd949-4e57-4ab1-f38d-7886311989d2"
      },
      "execution_count": 5,
      "outputs": [
        {
          "output_type": "execute_result",
          "data": {
            "text/plain": [
              "                  X             Y      OBJECTID  TRACKINGNUMBER  \\\n",
              "count  21506.000000  21506.000000  2.150600e+04    21506.000000   \n",
              "mean     -77.013005     38.911776  1.099715e+08   351939.748163   \n",
              "std        0.037558      0.029656  2.778494e+04     8161.769464   \n",
              "min      -77.113391     38.813658  1.098515e+08   199050.000000   \n",
              "25%      -77.034825     38.895648  1.099722e+08   346633.250000   \n",
              "50%      -77.014699     38.910532  1.099776e+08   352308.500000   \n",
              "75%      -76.989414     38.930828  1.099833e+08   358302.750000   \n",
              "max      -76.910140     38.993526  1.100169e+08   372573.000000   \n",
              "\n",
              "              XCOORD         YCOORD      LATITUDE     LONGITUDE  GIS_ID  \\\n",
              "count   21506.000000   21506.000000  21506.000000  21506.000000     0.0   \n",
              "mean   398872.873251  138212.451344     38.911768    -77.013003     NaN   \n",
              "std      3257.250934    3292.273017      0.029656      0.037558     NaN   \n",
              "min    390168.990000  127319.990000     38.813651    -77.113389     NaN   \n",
              "25%    396979.962500  136422.620000     38.895640    -77.034823     NaN   \n",
              "50%    398725.565000  138074.250000     38.910524    -77.014696     NaN   \n",
              "75%    400918.710000  140327.210000     38.930821    -76.989412     NaN   \n",
              "max    407795.708421  147287.490000     38.993518    -76.910138     NaN   \n",
              "\n",
              "       CREATOR  CREATED  EDITOR  EDITED  \n",
              "count      0.0      0.0     0.0     0.0  \n",
              "mean       NaN      NaN     NaN     NaN  \n",
              "std        NaN      NaN     NaN     NaN  \n",
              "min        NaN      NaN     NaN     NaN  \n",
              "25%        NaN      NaN     NaN     NaN  \n",
              "50%        NaN      NaN     NaN     NaN  \n",
              "75%        NaN      NaN     NaN     NaN  \n",
              "max        NaN      NaN     NaN     NaN  "
            ],
            "text/html": [
              "\n",
              "  <div id=\"df-297fe2ad-2fe2-4def-9732-d109668069c7\">\n",
              "    <div class=\"colab-df-container\">\n",
              "      <div>\n",
              "<style scoped>\n",
              "    .dataframe tbody tr th:only-of-type {\n",
              "        vertical-align: middle;\n",
              "    }\n",
              "\n",
              "    .dataframe tbody tr th {\n",
              "        vertical-align: top;\n",
              "    }\n",
              "\n",
              "    .dataframe thead th {\n",
              "        text-align: right;\n",
              "    }\n",
              "</style>\n",
              "<table border=\"1\" class=\"dataframe\">\n",
              "  <thead>\n",
              "    <tr style=\"text-align: right;\">\n",
              "      <th></th>\n",
              "      <th>X</th>\n",
              "      <th>Y</th>\n",
              "      <th>OBJECTID</th>\n",
              "      <th>TRACKINGNUMBER</th>\n",
              "      <th>XCOORD</th>\n",
              "      <th>YCOORD</th>\n",
              "      <th>LATITUDE</th>\n",
              "      <th>LONGITUDE</th>\n",
              "      <th>GIS_ID</th>\n",
              "      <th>CREATOR</th>\n",
              "      <th>CREATED</th>\n",
              "      <th>EDITOR</th>\n",
              "      <th>EDITED</th>\n",
              "    </tr>\n",
              "  </thead>\n",
              "  <tbody>\n",
              "    <tr>\n",
              "      <th>count</th>\n",
              "      <td>21506.000000</td>\n",
              "      <td>21506.000000</td>\n",
              "      <td>2.150600e+04</td>\n",
              "      <td>21506.000000</td>\n",
              "      <td>21506.000000</td>\n",
              "      <td>21506.000000</td>\n",
              "      <td>21506.000000</td>\n",
              "      <td>21506.000000</td>\n",
              "      <td>0.0</td>\n",
              "      <td>0.0</td>\n",
              "      <td>0.0</td>\n",
              "      <td>0.0</td>\n",
              "      <td>0.0</td>\n",
              "    </tr>\n",
              "    <tr>\n",
              "      <th>mean</th>\n",
              "      <td>-77.013005</td>\n",
              "      <td>38.911776</td>\n",
              "      <td>1.099715e+08</td>\n",
              "      <td>351939.748163</td>\n",
              "      <td>398872.873251</td>\n",
              "      <td>138212.451344</td>\n",
              "      <td>38.911768</td>\n",
              "      <td>-77.013003</td>\n",
              "      <td>NaN</td>\n",
              "      <td>NaN</td>\n",
              "      <td>NaN</td>\n",
              "      <td>NaN</td>\n",
              "      <td>NaN</td>\n",
              "    </tr>\n",
              "    <tr>\n",
              "      <th>std</th>\n",
              "      <td>0.037558</td>\n",
              "      <td>0.029656</td>\n",
              "      <td>2.778494e+04</td>\n",
              "      <td>8161.769464</td>\n",
              "      <td>3257.250934</td>\n",
              "      <td>3292.273017</td>\n",
              "      <td>0.029656</td>\n",
              "      <td>0.037558</td>\n",
              "      <td>NaN</td>\n",
              "      <td>NaN</td>\n",
              "      <td>NaN</td>\n",
              "      <td>NaN</td>\n",
              "      <td>NaN</td>\n",
              "    </tr>\n",
              "    <tr>\n",
              "      <th>min</th>\n",
              "      <td>-77.113391</td>\n",
              "      <td>38.813658</td>\n",
              "      <td>1.098515e+08</td>\n",
              "      <td>199050.000000</td>\n",
              "      <td>390168.990000</td>\n",
              "      <td>127319.990000</td>\n",
              "      <td>38.813651</td>\n",
              "      <td>-77.113389</td>\n",
              "      <td>NaN</td>\n",
              "      <td>NaN</td>\n",
              "      <td>NaN</td>\n",
              "      <td>NaN</td>\n",
              "      <td>NaN</td>\n",
              "    </tr>\n",
              "    <tr>\n",
              "      <th>25%</th>\n",
              "      <td>-77.034825</td>\n",
              "      <td>38.895648</td>\n",
              "      <td>1.099722e+08</td>\n",
              "      <td>346633.250000</td>\n",
              "      <td>396979.962500</td>\n",
              "      <td>136422.620000</td>\n",
              "      <td>38.895640</td>\n",
              "      <td>-77.034823</td>\n",
              "      <td>NaN</td>\n",
              "      <td>NaN</td>\n",
              "      <td>NaN</td>\n",
              "      <td>NaN</td>\n",
              "      <td>NaN</td>\n",
              "    </tr>\n",
              "    <tr>\n",
              "      <th>50%</th>\n",
              "      <td>-77.014699</td>\n",
              "      <td>38.910532</td>\n",
              "      <td>1.099776e+08</td>\n",
              "      <td>352308.500000</td>\n",
              "      <td>398725.565000</td>\n",
              "      <td>138074.250000</td>\n",
              "      <td>38.910524</td>\n",
              "      <td>-77.014696</td>\n",
              "      <td>NaN</td>\n",
              "      <td>NaN</td>\n",
              "      <td>NaN</td>\n",
              "      <td>NaN</td>\n",
              "      <td>NaN</td>\n",
              "    </tr>\n",
              "    <tr>\n",
              "      <th>75%</th>\n",
              "      <td>-76.989414</td>\n",
              "      <td>38.930828</td>\n",
              "      <td>1.099833e+08</td>\n",
              "      <td>358302.750000</td>\n",
              "      <td>400918.710000</td>\n",
              "      <td>140327.210000</td>\n",
              "      <td>38.930821</td>\n",
              "      <td>-76.989412</td>\n",
              "      <td>NaN</td>\n",
              "      <td>NaN</td>\n",
              "      <td>NaN</td>\n",
              "      <td>NaN</td>\n",
              "      <td>NaN</td>\n",
              "    </tr>\n",
              "    <tr>\n",
              "      <th>max</th>\n",
              "      <td>-76.910140</td>\n",
              "      <td>38.993526</td>\n",
              "      <td>1.100169e+08</td>\n",
              "      <td>372573.000000</td>\n",
              "      <td>407795.708421</td>\n",
              "      <td>147287.490000</td>\n",
              "      <td>38.993518</td>\n",
              "      <td>-76.910138</td>\n",
              "      <td>NaN</td>\n",
              "      <td>NaN</td>\n",
              "      <td>NaN</td>\n",
              "      <td>NaN</td>\n",
              "      <td>NaN</td>\n",
              "    </tr>\n",
              "  </tbody>\n",
              "</table>\n",
              "</div>\n",
              "      <button class=\"colab-df-convert\" onclick=\"convertToInteractive('df-297fe2ad-2fe2-4def-9732-d109668069c7')\"\n",
              "              title=\"Convert this dataframe to an interactive table.\"\n",
              "              style=\"display:none;\">\n",
              "        \n",
              "  <svg xmlns=\"http://www.w3.org/2000/svg\" height=\"24px\"viewBox=\"0 0 24 24\"\n",
              "       width=\"24px\">\n",
              "    <path d=\"M0 0h24v24H0V0z\" fill=\"none\"/>\n",
              "    <path d=\"M18.56 5.44l.94 2.06.94-2.06 2.06-.94-2.06-.94-.94-2.06-.94 2.06-2.06.94zm-11 1L8.5 8.5l.94-2.06 2.06-.94-2.06-.94L8.5 2.5l-.94 2.06-2.06.94zm10 10l.94 2.06.94-2.06 2.06-.94-2.06-.94-.94-2.06-.94 2.06-2.06.94z\"/><path d=\"M17.41 7.96l-1.37-1.37c-.4-.4-.92-.59-1.43-.59-.52 0-1.04.2-1.43.59L10.3 9.45l-7.72 7.72c-.78.78-.78 2.05 0 2.83L4 21.41c.39.39.9.59 1.41.59.51 0 1.02-.2 1.41-.59l7.78-7.78 2.81-2.81c.8-.78.8-2.07 0-2.86zM5.41 20L4 18.59l7.72-7.72 1.47 1.35L5.41 20z\"/>\n",
              "  </svg>\n",
              "      </button>\n",
              "      \n",
              "  <style>\n",
              "    .colab-df-container {\n",
              "      display:flex;\n",
              "      flex-wrap:wrap;\n",
              "      gap: 12px;\n",
              "    }\n",
              "\n",
              "    .colab-df-convert {\n",
              "      background-color: #E8F0FE;\n",
              "      border: none;\n",
              "      border-radius: 50%;\n",
              "      cursor: pointer;\n",
              "      display: none;\n",
              "      fill: #1967D2;\n",
              "      height: 32px;\n",
              "      padding: 0 0 0 0;\n",
              "      width: 32px;\n",
              "    }\n",
              "\n",
              "    .colab-df-convert:hover {\n",
              "      background-color: #E2EBFA;\n",
              "      box-shadow: 0px 1px 2px rgba(60, 64, 67, 0.3), 0px 1px 3px 1px rgba(60, 64, 67, 0.15);\n",
              "      fill: #174EA6;\n",
              "    }\n",
              "\n",
              "    [theme=dark] .colab-df-convert {\n",
              "      background-color: #3B4455;\n",
              "      fill: #D2E3FC;\n",
              "    }\n",
              "\n",
              "    [theme=dark] .colab-df-convert:hover {\n",
              "      background-color: #434B5C;\n",
              "      box-shadow: 0px 1px 3px 1px rgba(0, 0, 0, 0.15);\n",
              "      filter: drop-shadow(0px 1px 2px rgba(0, 0, 0, 0.3));\n",
              "      fill: #FFFFFF;\n",
              "    }\n",
              "  </style>\n",
              "\n",
              "      <script>\n",
              "        const buttonEl =\n",
              "          document.querySelector('#df-297fe2ad-2fe2-4def-9732-d109668069c7 button.colab-df-convert');\n",
              "        buttonEl.style.display =\n",
              "          google.colab.kernel.accessAllowed ? 'block' : 'none';\n",
              "\n",
              "        async function convertToInteractive(key) {\n",
              "          const element = document.querySelector('#df-297fe2ad-2fe2-4def-9732-d109668069c7');\n",
              "          const dataTable =\n",
              "            await google.colab.kernel.invokeFunction('convertToInteractive',\n",
              "                                                     [key], {});\n",
              "          if (!dataTable) return;\n",
              "\n",
              "          const docLinkHtml = 'Like what you see? Visit the ' +\n",
              "            '<a target=\"_blank\" href=https://colab.research.google.com/notebooks/data_table.ipynb>data table notebook</a>'\n",
              "            + ' to learn more about interactive tables.';\n",
              "          element.innerHTML = '';\n",
              "          dataTable['output_type'] = 'display_data';\n",
              "          await google.colab.output.renderOutput(dataTable, element);\n",
              "          const docLink = document.createElement('div');\n",
              "          docLink.innerHTML = docLinkHtml;\n",
              "          element.appendChild(docLink);\n",
              "        }\n",
              "      </script>\n",
              "    </div>\n",
              "  </div>\n",
              "  "
            ]
          },
          "metadata": {},
          "execution_count": 5
        }
      ]
    },
    {
      "cell_type": "code",
      "source": [
        "df.info()"
      ],
      "metadata": {
        "colab": {
          "base_uri": "https://localhost:8080/"
        },
        "id": "Ow90BTg3QiGB",
        "outputId": "171cf469-b602-4856-acfa-90ee4b34ed48"
      },
      "execution_count": 6,
      "outputs": [
        {
          "output_type": "stream",
          "name": "stdout",
          "text": [
            "<class 'pandas.core.frame.DataFrame'>\n",
            "RangeIndex: 21506 entries, 0 to 21505\n",
            "Data columns (total 34 columns):\n",
            " #   Column                Non-Null Count  Dtype  \n",
            "---  ------                --------------  -----  \n",
            " 0   X                     21506 non-null  float64\n",
            " 1   Y                     21506 non-null  float64\n",
            " 2   OBJECTID              21506 non-null  int64  \n",
            " 3   APPLICATIONDATE       21506 non-null  object \n",
            " 4   ISEXCAVATION          21506 non-null  object \n",
            " 5   ISFIXTURE             21506 non-null  object \n",
            " 6   ISPAVING              21506 non-null  object \n",
            " 7   ISLANDSCAPING         21506 non-null  object \n",
            " 8   ISPROJECTIONS         21506 non-null  object \n",
            " 9   ISPSRENTAL            21506 non-null  object \n",
            " 10  TRACKINGNUMBER        21506 non-null  int64  \n",
            " 11  PERMITNUMBER          17639 non-null  object \n",
            " 12  INTAKEDATE            21506 non-null  object \n",
            " 13  ISSUEDATE             17639 non-null  object \n",
            " 14  EFFECTIVEDATE         21506 non-null  object \n",
            " 15  EXPIRATIONDATE        21506 non-null  object \n",
            " 16  XCOORD                21506 non-null  float64\n",
            " 17  YCOORD                21506 non-null  float64\n",
            " 18  STATUS                21506 non-null  object \n",
            " 19  WLFULLADDRESS         21506 non-null  object \n",
            " 20  PERMITTEENAME         21158 non-null  object \n",
            " 21  OWNERNAME             19770 non-null  object \n",
            " 22  CONTRACTORNAME        3403 non-null   object \n",
            " 23  WORKDETAIL            21506 non-null  object \n",
            " 24  READYFORREVIEWDATE    20988 non-null  object \n",
            " 25  APPLICANTCOMPANYNAME  17024 non-null  object \n",
            " 26  LATITUDE              21506 non-null  float64\n",
            " 27  LONGITUDE             21506 non-null  float64\n",
            " 28  GIS_ID                0 non-null      float64\n",
            " 29  GLOBALID              21506 non-null  object \n",
            " 30  CREATOR               0 non-null      float64\n",
            " 31  CREATED               0 non-null      float64\n",
            " 32  EDITOR                0 non-null      float64\n",
            " 33  EDITED                0 non-null      float64\n",
            "dtypes: float64(11), int64(2), object(21)\n",
            "memory usage: 5.6+ MB\n"
          ]
        }
      ]
    },
    {
      "cell_type": "code",
      "source": [
        "df.isnull().sum()"
      ],
      "metadata": {
        "colab": {
          "base_uri": "https://localhost:8080/"
        },
        "id": "_zOl3TMPQjYv",
        "outputId": "31d859d7-0f9d-48bc-893a-ed5634b37613"
      },
      "execution_count": 7,
      "outputs": [
        {
          "output_type": "execute_result",
          "data": {
            "text/plain": [
              "X                           0\n",
              "Y                           0\n",
              "OBJECTID                    0\n",
              "APPLICATIONDATE             0\n",
              "ISEXCAVATION                0\n",
              "ISFIXTURE                   0\n",
              "ISPAVING                    0\n",
              "ISLANDSCAPING               0\n",
              "ISPROJECTIONS               0\n",
              "ISPSRENTAL                  0\n",
              "TRACKINGNUMBER              0\n",
              "PERMITNUMBER             3867\n",
              "INTAKEDATE                  0\n",
              "ISSUEDATE                3867\n",
              "EFFECTIVEDATE               0\n",
              "EXPIRATIONDATE              0\n",
              "XCOORD                      0\n",
              "YCOORD                      0\n",
              "STATUS                      0\n",
              "WLFULLADDRESS               0\n",
              "PERMITTEENAME             348\n",
              "OWNERNAME                1736\n",
              "CONTRACTORNAME          18103\n",
              "WORKDETAIL                  0\n",
              "READYFORREVIEWDATE        518\n",
              "APPLICANTCOMPANYNAME     4482\n",
              "LATITUDE                    0\n",
              "LONGITUDE                   0\n",
              "GIS_ID                  21506\n",
              "GLOBALID                    0\n",
              "CREATOR                 21506\n",
              "CREATED                 21506\n",
              "EDITOR                  21506\n",
              "EDITED                  21506\n",
              "dtype: int64"
            ]
          },
          "metadata": {},
          "execution_count": 7
        }
      ]
    },
    {
      "cell_type": "markdown",
      "source": [
        "### Dropping unwanted columns which are totally null and few of them are unwanted."
      ],
      "metadata": {
        "id": "NtDqj6H2g1Yu"
      }
    },
    {
      "cell_type": "code",
      "source": [
        "df.drop(['EDITED' , 'EDITOR' , 'CREATOR' , 'CREATED' ,\n",
        "           'CONTRACTORNAME', 'GIS_ID' ,\n",
        "         'WLFULLADDRESS' , 'WORKDETAIL' , 'GLOBALID','OBJECTID', 'EXPIRATIONDATE' ,\n",
        "         'EFFECTIVEDATE' , 'INTAKEDATE']  , axis = 1, inplace = True)\n"
      ],
      "metadata": {
        "id": "99bLXfjDQxX_"
      },
      "execution_count": 8,
      "outputs": []
    },
    {
      "cell_type": "code",
      "source": [
        "df.shape"
      ],
      "metadata": {
        "colab": {
          "base_uri": "https://localhost:8080/"
        },
        "id": "fzSDuLDpLXLn",
        "outputId": "f0f900c2-d4cc-4c86-d875-5a5a6338a851"
      },
      "execution_count": 9,
      "outputs": [
        {
          "output_type": "execute_result",
          "data": {
            "text/plain": [
              "(21506, 21)"
            ]
          },
          "metadata": {},
          "execution_count": 9
        }
      ]
    },
    {
      "cell_type": "code",
      "source": [
        "plt.rcParams[\"figure.figsize\"] = (10,10)\n",
        "df.hist()\n",
        "plt.show()"
      ],
      "metadata": {
        "colab": {
          "base_uri": "https://localhost:8080/",
          "height": 607
        },
        "id": "J26c3Q-EmIxz",
        "outputId": "4f22f300-fab8-44ed-eeb0-e07010765c8a"
      },
      "execution_count": 10,
      "outputs": [
        {
          "output_type": "display_data",
          "data": {
            "text/plain": [
              "<Figure size 720x720 with 9 Axes>"
            ],
            "image/png": "[encoded data removed]"
          },
          "metadata": {
            "needs_background": "light"
          }
        }
      ]
    },
    {
      "cell_type": "code",
      "source": [
        "sns.heatmap(df.corr())\n",
        "plt.show()"
      ],
      "metadata": {
        "colab": {
          "base_uri": "https://localhost:8080/",
          "height": 680
        },
        "id": "1zKb7jc4lsn7",
        "outputId": "4743c89c-1e5c-4751-83fe-c0e64a6bccbb"
      },
      "execution_count": 11,
      "outputs": [
        {
          "output_type": "display_data",
          "data": {
            "text/plain": [
              "<Figure size 720x720 with 2 Axes>"
            ],
            "image/png": "[encoded data removed]"
          },
          "metadata": {
            "needs_background": "light"
          }
        }
      ]
    },
    {
      "cell_type": "markdown",
      "source": [
        "### Changing the status values into categories"
      ],
      "metadata": {
        "id": "K3bTUquZwqld"
      }
    },
    {
      "cell_type": "code",
      "source": [
        "df['STATUS'].unique()"
      ],
      "metadata": {
        "colab": {
          "base_uri": "https://localhost:8080/"
        },
        "id": "CdqjEckuLdCA",
        "outputId": "ccbbf919-765d-477b-ace7-5c04b9d7b65a"
      },
      "execution_count": 12,
      "outputs": [
        {
          "output_type": "execute_result",
          "data": {
            "text/plain": [
              "array(['Permit Expired', 'Cancel/Withdrawn', 'Denied',\n",
              "       'Approved (Pending Payment)', 'Assigned', 'Revise and Resubmit',\n",
              "       'Resubmitted', 'Reopened', 'Revoked', 'Pending Assignment',\n",
              "       'Suspended', 'Issued'], dtype=object)"
            ]
          },
          "metadata": {},
          "execution_count": 12
        }
      ]
    },
    {
      "cell_type": "code",
      "source": [
        "df['STATUS'].value_counts()"
      ],
      "metadata": {
        "colab": {
          "base_uri": "https://localhost:8080/"
        },
        "id": "qWdUTTgsbf0i",
        "outputId": "dcb12ed0-6d26-4468-ed34-fca779f6e7bb"
      },
      "execution_count": 13,
      "outputs": [
        {
          "output_type": "execute_result",
          "data": {
            "text/plain": [
              "Permit Expired                17427\n",
              "Cancel/Withdrawn               2974\n",
              "Approved (Pending Payment)      410\n",
              "Denied                          233\n",
              "Revise and Resubmit             196\n",
              "Issued                          196\n",
              "Assigned                         33\n",
              "Reopened                         11\n",
              "Suspended                         9\n",
              "Resubmitted                       8\n",
              "Revoked                           6\n",
              "Pending Assignment                3\n",
              "Name: STATUS, dtype: int64"
            ]
          },
          "metadata": {},
          "execution_count": 13
        }
      ]
    },
    {
      "cell_type": "code",
      "source": [
        "# Replacing the values to issued and not issued\n",
        "\n",
        "df['STATUS'] = df['STATUS'].replace(['Cancel/Withdrawn','Denied','Revise and Resubmit','Revoked','Pending Assignment','Suspended'],'Not Issued')"
      ],
      "metadata": {
        "id": "_vKC16UOM4W5"
      },
      "execution_count": 14,
      "outputs": []
    },
    {
      "cell_type": "code",
      "source": [
        "df['STATUS'] = df['STATUS'].replace(['Approved (Pending Payment)'],'Issued')"
      ],
      "metadata": {
        "id": "Jhw2HHQUAiwt"
      },
      "execution_count": 15,
      "outputs": []
    },
    {
      "cell_type": "code",
      "source": [
        "df['STATUS'].count()"
      ],
      "metadata": {
        "colab": {
          "base_uri": "https://localhost:8080/"
        },
        "id": "FssoVflpOnBR",
        "outputId": "a07ed18b-7154-4282-b4f3-ae35aa4367ae"
      },
      "execution_count": 16,
      "outputs": [
        {
          "output_type": "execute_result",
          "data": {
            "text/plain": [
              "21506"
            ]
          },
          "metadata": {},
          "execution_count": 16
        }
      ]
    },
    {
      "cell_type": "markdown",
      "source": [
        "### Representing the categories divided."
      ],
      "metadata": {
        "id": "vuF7U8MVxYNE"
      }
    },
    {
      "cell_type": "code",
      "source": [
        "status = df['STATUS'].value_counts()\n",
        "status"
      ],
      "metadata": {
        "colab": {
          "base_uri": "https://localhost:8080/"
        },
        "id": "Ju-g_Pg5I1Z1",
        "outputId": "63b90a50-c214-40bd-d3b6-3bf6047e9100"
      },
      "execution_count": 17,
      "outputs": [
        {
          "output_type": "execute_result",
          "data": {
            "text/plain": [
              "Permit Expired    17427\n",
              "Not Issued         3421\n",
              "Issued              606\n",
              "Assigned             33\n",
              "Reopened             11\n",
              "Resubmitted           8\n",
              "Name: STATUS, dtype: int64"
            ]
          },
          "metadata": {},
          "execution_count": 17
        }
      ]
    },
    {
      "cell_type": "code",
      "source": [
        "df['STATUS'].value_counts().sort_values().plot(kind = 'barh',figsize =(12, 3))"
      ],
      "metadata": {
        "colab": {
          "base_uri": "https://localhost:8080/",
          "height": 229
        },
        "id": "VvEPNNWMKjjJ",
        "outputId": "685af8da-4fa0-4e11-caec-30d42d3fe5d7"
      },
      "execution_count": 18,
      "outputs": [
        {
          "output_type": "execute_result",
          "data": {
            "text/plain": [
              "<matplotlib.axes._subplots.AxesSubplot at 0x7f9e6c995910>"
            ]
          },
          "metadata": {},
          "execution_count": 18
        },
        {
          "output_type": "display_data",
          "data": {
            "text/plain": [
              "<Figure size 864x216 with 1 Axes>"
            ],
            "image/png": "[encoded data removed]"
          },
          "metadata": {
            "needs_background": "light"
          }
        }
      ]
    },
    {
      "cell_type": "markdown",
      "source": [
        "### Viewing only the issued and not issued values."
      ],
      "metadata": {
        "id": "28C5z9UYwld2"
      }
    },
    {
      "cell_type": "code",
      "source": [
        "# Taking only the issued and not issued values\n",
        "\n",
        "permits = ['Permit Expired','Assigned' , 'Reopened' , 'Resubmitted']\n",
        "df = df[df.STATUS.isin(permits) == False]\n",
        "df['STATUS'].value_counts()"
      ],
      "metadata": {
        "colab": {
          "base_uri": "https://localhost:8080/"
        },
        "id": "QYzRt9K3Oq2c",
        "outputId": "893e89f4-6694-4fc2-97d5-db7087e7f03d"
      },
      "execution_count": 19,
      "outputs": [
        {
          "output_type": "execute_result",
          "data": {
            "text/plain": [
              "Not Issued    3421\n",
              "Issued         606\n",
              "Name: STATUS, dtype: int64"
            ]
          },
          "metadata": {},
          "execution_count": 19
        }
      ]
    },
    {
      "cell_type": "code",
      "source": [
        "df.shape"
      ],
      "metadata": {
        "colab": {
          "base_uri": "https://localhost:8080/"
        },
        "id": "RPZbtIlmgtOh",
        "outputId": "30c49df6-7d67-42e0-abca-2f18666ce816"
      },
      "execution_count": 20,
      "outputs": [
        {
          "output_type": "execute_result",
          "data": {
            "text/plain": [
              "(4027, 21)"
            ]
          },
          "metadata": {},
          "execution_count": 20
        }
      ]
    },
    {
      "cell_type": "code",
      "source": [
        "permits_by_status = df.groupby(df['STATUS']).size()\n",
        "permits_by_status"
      ],
      "metadata": {
        "colab": {
          "base_uri": "https://localhost:8080/"
        },
        "id": "yIeBS-KD9n19",
        "outputId": "4e2f12d2-0894-40d8-b68d-5701bdde0a4f"
      },
      "execution_count": 21,
      "outputs": [
        {
          "output_type": "execute_result",
          "data": {
            "text/plain": [
              "STATUS\n",
              "Issued         606\n",
              "Not Issued    3421\n",
              "dtype: int64"
            ]
          },
          "metadata": {},
          "execution_count": 21
        }
      ]
    },
    {
      "cell_type": "code",
      "source": [
        "plt.axis('equal') \n",
        "permits_by_status.plot(kind='pie', legend=False, label='Permits by Status',figsize =(12, 5),autopct='%.1f%%')"
      ],
      "metadata": {
        "colab": {
          "base_uri": "https://localhost:8080/",
          "height": 321
        },
        "id": "QQoVY6Yj6oES",
        "outputId": "ff93ef2e-1294-44e2-b8e7-24d0c15b827e"
      },
      "execution_count": 22,
      "outputs": [
        {
          "output_type": "execute_result",
          "data": {
            "text/plain": [
              "<matplotlib.axes._subplots.AxesSubplot at 0x7f9e6c934e90>"
            ]
          },
          "metadata": {},
          "execution_count": 22
        },
        {
          "output_type": "display_data",
          "data": {
            "text/plain": [
              "<Figure size 864x360 with 1 Axes>"
            ],
            "image/png": "[encoded data removed]"
          },
          "metadata": {}
        }
      ]
    },
    {
      "cell_type": "markdown",
      "source": [
        "### Getting the top 10 permittee names."
      ],
      "metadata": {
        "id": "qyLkVWCDwLH7"
      }
    },
    {
      "cell_type": "code",
      "source": [
        "permits_by_name = df.groupby(df['PERMITTEENAME']).size()\n",
        "permits_by_name = permits_by_name.sort_values(ascending=False)\n",
        "permits_by_name"
      ],
      "metadata": {
        "colab": {
          "base_uri": "https://localhost:8080/"
        },
        "id": "M4ng1f1Xn7mz",
        "outputId": "a21cb40c-04b9-49ab-b81f-16e144241cd9"
      },
      "execution_count": 23,
      "outputs": [
        {
          "output_type": "execute_result",
          "data": {
            "text/plain": [
              "PERMITTEENAME\n",
              "Crown Castle NG Atlantic LLC      775\n",
              "Cellco Partnership                459\n",
              "AT&T Mobility                     333\n",
              "Wash Gas & Light Co.              162\n",
              "Potomac Electric Power Company    134\n",
              "                                 ... \n",
              "Grace Street Coffee                 1\n",
              "Gracie Anderson                     1\n",
              "Grand Central                       1\n",
              "Greg Masters                        1\n",
              "yaw oteng-agipong                   1\n",
              "Length: 928, dtype: int64"
            ]
          },
          "metadata": {},
          "execution_count": 23
        }
      ]
    },
    {
      "cell_type": "code",
      "source": [
        "plt.figure(figsize=(10,5))\n",
        "ax =sns.countplot(x = 'PERMITTEENAME', data=df, palette=\"Purples_r\", order=df.PERMITTEENAME.value_counts().iloc[:10].index)\n",
        "plt.xticks(rotation=70)"
      ],
      "metadata": {
        "colab": {
          "base_uri": "https://localhost:8080/",
          "height": 519
        },
        "id": "5geAOvakQc0u",
        "outputId": "a4972f74-3fc7-4ff6-f13b-fb866ca5054a"
      },
      "execution_count": 24,
      "outputs": [
        {
          "output_type": "execute_result",
          "data": {
            "text/plain": [
              "(array([0, 1, 2, 3, 4, 5, 6, 7, 8, 9]),\n",
              " <a list of 10 Text major ticklabel objects>)"
            ]
          },
          "metadata": {},
          "execution_count": 24
        },
        {
          "output_type": "display_data",
          "data": {
            "text/plain": [
              "<Figure size 720x360 with 1 Axes>"
            ],
            "image/png": "[encoded data removed]"
          },
          "metadata": {
            "needs_background": "light"
          }
        }
      ]
    },
    {
      "cell_type": "markdown",
      "source": [
        "### Top 10 owners according to applications."
      ],
      "metadata": {
        "id": "MMBdVfiywR2H"
      }
    },
    {
      "cell_type": "code",
      "source": [
        "owner=df['OWNERNAME'].value_counts()"
      ],
      "metadata": {
        "id": "Nfo_b13vl3Ny"
      },
      "execution_count": 25,
      "outputs": []
    },
    {
      "cell_type": "code",
      "source": [
        "owner.sort_values(ascending=False)[:10].plot(kind='barh',figsize=(10,5),color='g')"
      ],
      "metadata": {
        "colab": {
          "base_uri": "https://localhost:8080/",
          "height": 338
        },
        "id": "wsYVXNsFSkbw",
        "outputId": "6c1747e2-6b02-488f-92ca-e732c9806762"
      },
      "execution_count": 26,
      "outputs": [
        {
          "output_type": "execute_result",
          "data": {
            "text/plain": [
              "<matplotlib.axes._subplots.AxesSubplot at 0x7f9e6c916bd0>"
            ]
          },
          "metadata": {},
          "execution_count": 26
        },
        {
          "output_type": "display_data",
          "data": {
            "text/plain": [
              "<Figure size 720x360 with 1 Axes>"
            ],
            "image/png": "[encoded data removed]"
          },
          "metadata": {
            "needs_background": "light"
          }
        }
      ]
    },
    {
      "cell_type": "markdown",
      "source": [
        "### Viewing the applications according to the years."
      ],
      "metadata": {
        "id": "3dtN3mBpwXvy"
      }
    },
    {
      "cell_type": "code",
      "source": [
        "df['APPLICATIONDATE'] = pd.to_datetime(df['APPLICATIONDATE'], format='%Y-%m-%d %H:%M:%S')"
      ],
      "metadata": {
        "id": "ik-L0N0ESnz3"
      },
      "execution_count": 27,
      "outputs": []
    },
    {
      "cell_type": "code",
      "source": [
        "df['appliedyear'] = df['APPLICATIONDATE'].dt.year"
      ],
      "metadata": {
        "id": "lsMKgcQ7l9lG"
      },
      "execution_count": 28,
      "outputs": []
    },
    {
      "cell_type": "code",
      "source": [
        "df['appliedyear'].value_counts()"
      ],
      "metadata": {
        "colab": {
          "base_uri": "https://localhost:8080/"
        },
        "id": "KNs97GbKdZvx",
        "outputId": "1536f769-5d8c-4cee-bc8c-c4513da1f736"
      },
      "execution_count": 29,
      "outputs": [
        {
          "output_type": "execute_result",
          "data": {
            "text/plain": [
              "2020    2293\n",
              "2019    1727\n",
              "2021       3\n",
              "2017       2\n",
              "2018       2\n",
              "Name: appliedyear, dtype: int64"
            ]
          },
          "metadata": {},
          "execution_count": 29
        }
      ]
    },
    {
      "cell_type": "code",
      "source": [
        "plt.figure(figsize=(10,5))\n",
        "ax =sns.kdeplot(data=df.appliedyear,shade=False,alpha=0.8)\n",
        "plt.show()"
      ],
      "metadata": {
        "colab": {
          "base_uri": "https://localhost:8080/",
          "height": 337
        },
        "id": "HSr7RbI1OGSq",
        "outputId": "46bb43bf-238d-495a-c640-8997ac154386"
      },
      "execution_count": 30,
      "outputs": [
        {
          "output_type": "display_data",
          "data": {
            "text/plain": [
              "<Figure size 720x360 with 1 Axes>"
            ],
            "image/png": "[encoded data removed]"
          },
          "metadata": {
            "needs_background": "light"
          }
        }
      ]
    },
    {
      "cell_type": "markdown",
      "source": [
        "### The below graph shows the applications issued or not according to the specified years."
      ],
      "metadata": {
        "id": "kYN_ALdFxCzQ"
      }
    },
    {
      "cell_type": "code",
      "source": [
        "sns.catplot(x=\"appliedyear\",data=df,kind='count',\n",
        "                        hue='STATUS', order=range(2019, 2021),edgecolor=(0,0,0))\n",
        "plt.ylabel(\"Number of Applications\")\n"
      ],
      "metadata": {
        "colab": {
          "base_uri": "https://localhost:8080/",
          "height": 387
        },
        "id": "F5J1C6VAVSF8",
        "outputId": "13ed61e8-0e3d-4f33-cc69-302442bb38fc"
      },
      "execution_count": 31,
      "outputs": [
        {
          "output_type": "execute_result",
          "data": {
            "text/plain": [
              "Text(34.89522569444445, 0.5, 'Number of Applications')"
            ]
          },
          "metadata": {},
          "execution_count": 31
        },
        {
          "output_type": "display_data",
          "data": {
            "text/plain": [
              "<Figure size 448.75x360 with 1 Axes>"
            ],
            "image/png": "[encoded data removed]"
          },
          "metadata": {
            "needs_background": "light"
          }
        }
      ]
    },
    {
      "cell_type": "markdown",
      "source": [
        "### Values of months in the year 2020.\n"
      ],
      "metadata": {
        "id": "_MgScEMDjde6"
      }
    },
    {
      "cell_type": "code",
      "source": [
        "df_yr20 = df.query(\"appliedyear == 2020\")\n"
      ],
      "metadata": {
        "id": "bn7N-0uKqQ0-"
      },
      "execution_count": 32,
      "outputs": []
    },
    {
      "cell_type": "code",
      "source": [
        "df_yr20"
      ],
      "metadata": {
        "colab": {
          "base_uri": "https://localhost:8080/",
          "height": 661
        },
        "id": "3Byjr5MniRMR",
        "outputId": "d238e3e8-c962-4cc6-aafb-dc097df4a36c"
      },
      "execution_count": 33,
      "outputs": [
        {
          "output_type": "execute_result",
          "data": {
            "text/plain": [
              "               X          Y           APPLICATIONDATE ISEXCAVATION ISFIXTURE  \\\n",
              "87    -77.030832  38.912807 2020-01-01 20:47:24+00:00            F         T   \n",
              "2649  -76.989525  38.940889 2020-01-02 14:27:34+00:00            T         F   \n",
              "2650  -77.029032  38.945623 2020-01-02 14:44:41+00:00            F         T   \n",
              "2651  -77.018967  38.973618 2020-01-02 14:53:51+00:00            F         T   \n",
              "2652  -76.976141  38.848144 2020-01-02 15:02:57+00:00            F         T   \n",
              "...          ...        ...                       ...          ...       ...   \n",
              "21430 -77.001824  38.921160 2020-06-12 21:20:53+00:00            F         T   \n",
              "21431 -76.931356  38.899074 2020-10-09 21:45:31+00:00            F         F   \n",
              "21432 -76.931365  38.899331 2020-10-09 22:10:35+00:00            F         F   \n",
              "21433 -77.002781  38.884281 2020-06-24 16:22:51+00:00            F         T   \n",
              "21481 -76.964587  38.851569 2020-01-23 18:09:15+00:00            F         T   \n",
              "\n",
              "      ISPAVING ISLANDSCAPING ISPROJECTIONS ISPSRENTAL  TRACKINGNUMBER  ...  \\\n",
              "87           F             F             T          F          344560  ...   \n",
              "2649         F             F             F          F          344570  ...   \n",
              "2650         F             F             F          F          344572  ...   \n",
              "2651         F             F             F          F          344573  ...   \n",
              "2652         F             F             F          F          344574  ...   \n",
              "...        ...           ...           ...        ...             ...  ...   \n",
              "21430        F             F             F          F          354092  ...   \n",
              "21431        T             F             F          F          360770  ...   \n",
              "21432        T             F             F          F          360771  ...   \n",
              "21433        F             F             F          F          354683  ...   \n",
              "21481        F             F             F          F          345985  ...   \n",
              "\n",
              "             XCOORD         YCOORD      STATUS                 PERMITTEENAME  \\\n",
              "87     397326.21000  138326.620000  Not Issued                 Leroy Johnson   \n",
              "2649   400908.36000  141443.540000  Not Issued          Wash Gas & Light Co.   \n",
              "2650   397483.49000  141969.360000  Not Issued  Crown Castle NG Atlantic LLC   \n",
              "2651   398356.66000  145076.810000  Not Issued  Crown Castle NG Atlantic LLC   \n",
              "2652   402071.30000  131148.350000  Not Issued  Crown Castle NG Atlantic LLC   \n",
              "...             ...            ...         ...                           ...   \n",
              "21430  399842.05000  139253.390000  Not Issued                           NaN   \n",
              "21431  405954.72000  136803.920000  Not Issued              Mikhail Phillips   \n",
              "21432  405953.89000  136832.400000  Not Issued              Mikhail Phillips   \n",
              "21433  399758.87000  135159.520000  Not Issued  Crown Castle NG Atlantic LLC   \n",
              "21481  403074.14912  131528.840855  Not Issued  Crown Castle NG Atlantic LLC   \n",
              "\n",
              "                  OWNERNAME      READYFORREVIEWDATE  \\\n",
              "87        1327 R St LLC LLC  2020/01/01 20:56:39+00   \n",
              "2649   Wash Gas & Light Co.  2020/01/02 14:28:42+00   \n",
              "2650                    NaN  2020/01/03 17:50:49+00   \n",
              "2651                    NaN  2020/01/03 17:49:18+00   \n",
              "2652                    NaN  2020/01/03 17:47:32+00   \n",
              "...                     ...                     ...   \n",
              "21430                   NaN                     NaN   \n",
              "21431      Mikhail Phillips                     NaN   \n",
              "21432      Mikhail Phillips                     NaN   \n",
              "21433                   NaN                     NaN   \n",
              "21481                   NaN  2020/01/23 18:18:24+00   \n",
              "\n",
              "               APPLICANTCOMPANYNAME   LATITUDE  LONGITUDE  appliedyear  \n",
              "87                              NaN  38.912800 -77.030829         2020  \n",
              "2649           Wash Gas & Light Co.  38.940881 -76.989522         2020  \n",
              "2650   Crown Castle NG Atlantic LLC  38.945615 -77.029029         2020  \n",
              "2651   Crown Castle NG Atlantic LLC  38.973610 -77.018964         2020  \n",
              "2652   Crown Castle NG Atlantic LLC  38.848137 -76.976139         2020  \n",
              "...                             ...        ...        ...          ...  \n",
              "21430                           NaN  38.921152 -77.001821         2020  \n",
              "21431                           NaN  38.899067 -76.931354         2020  \n",
              "21432                           NaN  38.899323 -76.931363         2020  \n",
              "21433  Crown Castle NG Atlantic LLC  38.884273 -77.002779         2020  \n",
              "21481  Crown Castle NG Atlantic LLC  38.851561 -76.964585         2020  \n",
              "\n",
              "[2293 rows x 22 columns]"
            ],
            "text/html": [
              "\n",
              "  <div id=\"df-5c33faf7-a4de-4621-857b-8423fdab0da1\">\n",
              "    <div class=\"colab-df-container\">\n",
              "      <div>\n",
              "<style scoped>\n",
              "    .dataframe tbody tr th:only-of-type {\n",
              "        vertical-align: middle;\n",
              "    }\n",
              "\n",
              "    .dataframe tbody tr th {\n",
              "        vertical-align: top;\n",
              "    }\n",
              "\n",
              "    .dataframe thead th {\n",
              "        text-align: right;\n",
              "    }\n",
              "</style>\n",
              "<table border=\"1\" class=\"dataframe\">\n",
              "  <thead>\n",
              "    <tr style=\"text-align: right;\">\n",
              "      <th></th>\n",
              "      <th>X</th>\n",
              "      <th>Y</th>\n",
              "      <th>APPLICATIONDATE</th>\n",
              "      <th>ISEXCAVATION</th>\n",
              "      <th>ISFIXTURE</th>\n",
              "      <th>ISPAVING</th>\n",
              "      <th>ISLANDSCAPING</th>\n",
              "      <th>ISPROJECTIONS</th>\n",
              "      <th>ISPSRENTAL</th>\n",
              "      <th>TRACKINGNUMBER</th>\n",
              "      <th>...</th>\n",
              "      <th>XCOORD</th>\n",
              "      <th>YCOORD</th>\n",
              "      <th>STATUS</th>\n",
              "      <th>PERMITTEENAME</th>\n",
              "      <th>OWNERNAME</th>\n",
              "      <th>READYFORREVIEWDATE</th>\n",
              "      <th>APPLICANTCOMPANYNAME</th>\n",
              "      <th>LATITUDE</th>\n",
              "      <th>LONGITUDE</th>\n",
              "      <th>appliedyear</th>\n",
              "    </tr>\n",
              "  </thead>\n",
              "  <tbody>\n",
              "    <tr>\n",
              "      <th>87</th>\n",
              "      <td>-77.030832</td>\n",
              "      <td>38.912807</td>\n",
              "      <td>2020-01-01 20:47:24+00:00</td>\n",
              "      <td>F</td>\n",
              "      <td>T</td>\n",
              "      <td>F</td>\n",
              "      <td>F</td>\n",
              "      <td>T</td>\n",
              "      <td>F</td>\n",
              "      <td>344560</td>\n",
              "      <td>...</td>\n",
              "      <td>397326.21000</td>\n",
              "      <td>138326.620000</td>\n",
              "      <td>Not Issued</td>\n",
              "      <td>Leroy Johnson</td>\n",
              "      <td>1327 R St LLC LLC</td>\n",
              "      <td>2020/01/01 20:56:39+00</td>\n",
              "      <td>NaN</td>\n",
              "      <td>38.912800</td>\n",
              "      <td>-77.030829</td>\n",
              "      <td>2020</td>\n",
              "    </tr>\n",
              "    <tr>\n",
              "      <th>2649</th>\n",
              "      <td>-76.989525</td>\n",
              "      <td>38.940889</td>\n",
              "      <td>2020-01-02 14:27:34+00:00</td>\n",
              "      <td>T</td>\n",
              "      <td>F</td>\n",
              "      <td>F</td>\n",
              "      <td>F</td>\n",
              "      <td>F</td>\n",
              "      <td>F</td>\n",
              "      <td>344570</td>\n",
              "      <td>...</td>\n",
              "      <td>400908.36000</td>\n",
              "      <td>141443.540000</td>\n",
              "      <td>Not Issued</td>\n",
              "      <td>Wash Gas &amp; Light Co.</td>\n",
              "      <td>Wash Gas &amp; Light Co.</td>\n",
              "      <td>2020/01/02 14:28:42+00</td>\n",
              "      <td>Wash Gas &amp; Light Co.</td>\n",
              "      <td>38.940881</td>\n",
              "      <td>-76.989522</td>\n",
              "      <td>2020</td>\n",
              "    </tr>\n",
              "    <tr>\n",
              "      <th>2650</th>\n",
              "      <td>-77.029032</td>\n",
              "      <td>38.945623</td>\n",
              "      <td>2020-01-02 14:44:41+00:00</td>\n",
              "      <td>F</td>\n",
              "      <td>T</td>\n",
              "      <td>F</td>\n",
              "      <td>F</td>\n",
              "      <td>F</td>\n",
              "      <td>F</td>\n",
              "      <td>344572</td>\n",
              "      <td>...</td>\n",
              "      <td>397483.49000</td>\n",
              "      <td>141969.360000</td>\n",
              "      <td>Not Issued</td>\n",
              "      <td>Crown Castle NG Atlantic LLC</td>\n",
              "      <td>NaN</td>\n",
              "      <td>2020/01/03 17:50:49+00</td>\n",
              "      <td>Crown Castle NG Atlantic LLC</td>\n",
              "      <td>38.945615</td>\n",
              "      <td>-77.029029</td>\n",
              "      <td>2020</td>\n",
              "    </tr>\n",
              "    <tr>\n",
              "      <th>2651</th>\n",
              "      <td>-77.018967</td>\n",
              "      <td>38.973618</td>\n",
              "      <td>2020-01-02 14:53:51+00:00</td>\n",
              "      <td>F</td>\n",
              "      <td>T</td>\n",
              "      <td>F</td>\n",
              "      <td>F</td>\n",
              "      <td>F</td>\n",
              "      <td>F</td>\n",
              "      <td>344573</td>\n",
              "      <td>...</td>\n",
              "      <td>398356.66000</td>\n",
              "      <td>145076.810000</td>\n",
              "      <td>Not Issued</td>\n",
              "      <td>Crown Castle NG Atlantic LLC</td>\n",
              "      <td>NaN</td>\n",
              "      <td>2020/01/03 17:49:18+00</td>\n",
              "      <td>Crown Castle NG Atlantic LLC</td>\n",
              "      <td>38.973610</td>\n",
              "      <td>-77.018964</td>\n",
              "      <td>2020</td>\n",
              "    </tr>\n",
              "    <tr>\n",
              "      <th>2652</th>\n",
              "      <td>-76.976141</td>\n",
              "      <td>38.848144</td>\n",
              "      <td>2020-01-02 15:02:57+00:00</td>\n",
              "      <td>F</td>\n",
              "      <td>T</td>\n",
              "      <td>F</td>\n",
              "      <td>F</td>\n",
              "      <td>F</td>\n",
              "      <td>F</td>\n",
              "      <td>344574</td>\n",
              "      <td>...</td>\n",
              "      <td>402071.30000</td>\n",
              "      <td>131148.350000</td>\n",
              "      <td>Not Issued</td>\n",
              "      <td>Crown Castle NG Atlantic LLC</td>\n",
              "      <td>NaN</td>\n",
              "      <td>2020/01/03 17:47:32+00</td>\n",
              "      <td>Crown Castle NG Atlantic LLC</td>\n",
              "      <td>38.848137</td>\n",
              "      <td>-76.976139</td>\n",
              "      <td>2020</td>\n",
              "    </tr>\n",
              "    <tr>\n",
              "      <th>...</th>\n",
              "      <td>...</td>\n",
              "      <td>...</td>\n",
              "      <td>...</td>\n",
              "      <td>...</td>\n",
              "      <td>...</td>\n",
              "      <td>...</td>\n",
              "      <td>...</td>\n",
              "      <td>...</td>\n",
              "      <td>...</td>\n",
              "      <td>...</td>\n",
              "      <td>...</td>\n",
              "      <td>...</td>\n",
              "      <td>...</td>\n",
              "      <td>...</td>\n",
              "      <td>...</td>\n",
              "      <td>...</td>\n",
              "      <td>...</td>\n",
              "      <td>...</td>\n",
              "      <td>...</td>\n",
              "      <td>...</td>\n",
              "      <td>...</td>\n",
              "    </tr>\n",
              "    <tr>\n",
              "      <th>21430</th>\n",
              "      <td>-77.001824</td>\n",
              "      <td>38.921160</td>\n",
              "      <td>2020-06-12 21:20:53+00:00</td>\n",
              "      <td>F</td>\n",
              "      <td>T</td>\n",
              "      <td>F</td>\n",
              "      <td>F</td>\n",
              "      <td>F</td>\n",
              "      <td>F</td>\n",
              "      <td>354092</td>\n",
              "      <td>...</td>\n",
              "      <td>399842.05000</td>\n",
              "      <td>139253.390000</td>\n",
              "      <td>Not Issued</td>\n",
              "      <td>NaN</td>\n",
              "      <td>NaN</td>\n",
              "      <td>NaN</td>\n",
              "      <td>NaN</td>\n",
              "      <td>38.921152</td>\n",
              "      <td>-77.001821</td>\n",
              "      <td>2020</td>\n",
              "    </tr>\n",
              "    <tr>\n",
              "      <th>21431</th>\n",
              "      <td>-76.931356</td>\n",
              "      <td>38.899074</td>\n",
              "      <td>2020-10-09 21:45:31+00:00</td>\n",
              "      <td>F</td>\n",
              "      <td>F</td>\n",
              "      <td>T</td>\n",
              "      <td>F</td>\n",
              "      <td>F</td>\n",
              "      <td>F</td>\n",
              "      <td>360770</td>\n",
              "      <td>...</td>\n",
              "      <td>405954.72000</td>\n",
              "      <td>136803.920000</td>\n",
              "      <td>Not Issued</td>\n",
              "      <td>Mikhail Phillips</td>\n",
              "      <td>Mikhail Phillips</td>\n",
              "      <td>NaN</td>\n",
              "      <td>NaN</td>\n",
              "      <td>38.899067</td>\n",
              "      <td>-76.931354</td>\n",
              "      <td>2020</td>\n",
              "    </tr>\n",
              "    <tr>\n",
              "      <th>21432</th>\n",
              "      <td>-76.931365</td>\n",
              "      <td>38.899331</td>\n",
              "      <td>2020-10-09 22:10:35+00:00</td>\n",
              "      <td>F</td>\n",
              "      <td>F</td>\n",
              "      <td>T</td>\n",
              "      <td>F</td>\n",
              "      <td>F</td>\n",
              "      <td>F</td>\n",
              "      <td>360771</td>\n",
              "      <td>...</td>\n",
              "      <td>405953.89000</td>\n",
              "      <td>136832.400000</td>\n",
              "      <td>Not Issued</td>\n",
              "      <td>Mikhail Phillips</td>\n",
              "      <td>Mikhail Phillips</td>\n",
              "      <td>NaN</td>\n",
              "      <td>NaN</td>\n",
              "      <td>38.899323</td>\n",
              "      <td>-76.931363</td>\n",
              "      <td>2020</td>\n",
              "    </tr>\n",
              "    <tr>\n",
              "      <th>21433</th>\n",
              "      <td>-77.002781</td>\n",
              "      <td>38.884281</td>\n",
              "      <td>2020-06-24 16:22:51+00:00</td>\n",
              "      <td>F</td>\n",
              "      <td>T</td>\n",
              "      <td>F</td>\n",
              "      <td>F</td>\n",
              "      <td>F</td>\n",
              "      <td>F</td>\n",
              "      <td>354683</td>\n",
              "      <td>...</td>\n",
              "      <td>399758.87000</td>\n",
              "      <td>135159.520000</td>\n",
              "      <td>Not Issued</td>\n",
              "      <td>Crown Castle NG Atlantic LLC</td>\n",
              "      <td>NaN</td>\n",
              "      <td>NaN</td>\n",
              "      <td>Crown Castle NG Atlantic LLC</td>\n",
              "      <td>38.884273</td>\n",
              "      <td>-77.002779</td>\n",
              "      <td>2020</td>\n",
              "    </tr>\n",
              "    <tr>\n",
              "      <th>21481</th>\n",
              "      <td>-76.964587</td>\n",
              "      <td>38.851569</td>\n",
              "      <td>2020-01-23 18:09:15+00:00</td>\n",
              "      <td>F</td>\n",
              "      <td>T</td>\n",
              "      <td>F</td>\n",
              "      <td>F</td>\n",
              "      <td>F</td>\n",
              "      <td>F</td>\n",
              "      <td>345985</td>\n",
              "      <td>...</td>\n",
              "      <td>403074.14912</td>\n",
              "      <td>131528.840855</td>\n",
              "      <td>Not Issued</td>\n",
              "      <td>Crown Castle NG Atlantic LLC</td>\n",
              "      <td>NaN</td>\n",
              "      <td>2020/01/23 18:18:24+00</td>\n",
              "      <td>Crown Castle NG Atlantic LLC</td>\n",
              "      <td>38.851561</td>\n",
              "      <td>-76.964585</td>\n",
              "      <td>2020</td>\n",
              "    </tr>\n",
              "  </tbody>\n",
              "</table>\n",
              "<p>2293 rows × 22 columns</p>\n",
              "</div>\n",
              "      <button class=\"colab-df-convert\" onclick=\"convertToInteractive('df-5c33faf7-a4de-4621-857b-8423fdab0da1')\"\n",
              "              title=\"Convert this dataframe to an interactive table.\"\n",
              "              style=\"display:none;\">\n",
              "        \n",
              "  <svg xmlns=\"http://www.w3.org/2000/svg\" height=\"24px\"viewBox=\"0 0 24 24\"\n",
              "       width=\"24px\">\n",
              "    <path d=\"M0 0h24v24H0V0z\" fill=\"none\"/>\n",
              "    <path d=\"M18.56 5.44l.94 2.06.94-2.06 2.06-.94-2.06-.94-.94-2.06-.94 2.06-2.06.94zm-11 1L8.5 8.5l.94-2.06 2.06-.94-2.06-.94L8.5 2.5l-.94 2.06-2.06.94zm10 10l.94 2.06.94-2.06 2.06-.94-2.06-.94-.94-2.06-.94 2.06-2.06.94z\"/><path d=\"M17.41 7.96l-1.37-1.37c-.4-.4-.92-.59-1.43-.59-.52 0-1.04.2-1.43.59L10.3 9.45l-7.72 7.72c-.78.78-.78 2.05 0 2.83L4 21.41c.39.39.9.59 1.41.59.51 0 1.02-.2 1.41-.59l7.78-7.78 2.81-2.81c.8-.78.8-2.07 0-2.86zM5.41 20L4 18.59l7.72-7.72 1.47 1.35L5.41 20z\"/>\n",
              "  </svg>\n",
              "      </button>\n",
              "      \n",
              "  <style>\n",
              "    .colab-df-container {\n",
              "      display:flex;\n",
              "      flex-wrap:wrap;\n",
              "      gap: 12px;\n",
              "    }\n",
              "\n",
              "    .colab-df-convert {\n",
              "      background-color: #E8F0FE;\n",
              "      border: none;\n",
              "      border-radius: 50%;\n",
              "      cursor: pointer;\n",
              "      display: none;\n",
              "      fill: #1967D2;\n",
              "      height: 32px;\n",
              "      padding: 0 0 0 0;\n",
              "      width: 32px;\n",
              "    }\n",
              "\n",
              "    .colab-df-convert:hover {\n",
              "      background-color: #E2EBFA;\n",
              "      box-shadow: 0px 1px 2px rgba(60, 64, 67, 0.3), 0px 1px 3px 1px rgba(60, 64, 67, 0.15);\n",
              "      fill: #174EA6;\n",
              "    }\n",
              "\n",
              "    [theme=dark] .colab-df-convert {\n",
              "      background-color: #3B4455;\n",
              "      fill: #D2E3FC;\n",
              "    }\n",
              "\n",
              "    [theme=dark] .colab-df-convert:hover {\n",
              "      background-color: #434B5C;\n",
              "      box-shadow: 0px 1px 3px 1px rgba(0, 0, 0, 0.15);\n",
              "      filter: drop-shadow(0px 1px 2px rgba(0, 0, 0, 0.3));\n",
              "      fill: #FFFFFF;\n",
              "    }\n",
              "  </style>\n",
              "\n",
              "      <script>\n",
              "        const buttonEl =\n",
              "          document.querySelector('#df-5c33faf7-a4de-4621-857b-8423fdab0da1 button.colab-df-convert');\n",
              "        buttonEl.style.display =\n",
              "          google.colab.kernel.accessAllowed ? 'block' : 'none';\n",
              "\n",
              "        async function convertToInteractive(key) {\n",
              "          const element = document.querySelector('#df-5c33faf7-a4de-4621-857b-8423fdab0da1');\n",
              "          const dataTable =\n",
              "            await google.colab.kernel.invokeFunction('convertToInteractive',\n",
              "                                                     [key], {});\n",
              "          if (!dataTable) return;\n",
              "\n",
              "          const docLinkHtml = 'Like what you see? Visit the ' +\n",
              "            '<a target=\"_blank\" href=https://colab.research.google.com/notebooks/data_table.ipynb>data table notebook</a>'\n",
              "            + ' to learn more about interactive tables.';\n",
              "          element.innerHTML = '';\n",
              "          dataTable['output_type'] = 'display_data';\n",
              "          await google.colab.output.renderOutput(dataTable, element);\n",
              "          const docLink = document.createElement('div');\n",
              "          docLink.innerHTML = docLinkHtml;\n",
              "          element.appendChild(docLink);\n",
              "        }\n",
              "      </script>\n",
              "    </div>\n",
              "  </div>\n",
              "  "
            ]
          },
          "metadata": {},
          "execution_count": 33
        }
      ]
    },
    {
      "cell_type": "markdown",
      "source": [
        "### Representing the application values according to the months in the year 2020. "
      ],
      "metadata": {
        "id": "us2V9nQ9xA1O"
      }
    },
    {
      "cell_type": "code",
      "source": [
        "df['month20'] = df_yr20['APPLICATIONDATE'].dt.month_name()"
      ],
      "metadata": {
        "id": "cIrTQDbZcjOI"
      },
      "execution_count": 34,
      "outputs": []
    },
    {
      "cell_type": "code",
      "source": [
        "df['month20'].value_counts()"
      ],
      "metadata": {
        "colab": {
          "base_uri": "https://localhost:8080/"
        },
        "id": "bgkFErZKiww-",
        "outputId": "c7b2bc12-b6bb-43f5-9318-ef649431cb76"
      },
      "execution_count": 35,
      "outputs": [
        {
          "output_type": "execute_result",
          "data": {
            "text/plain": [
              "January      254\n",
              "October      246\n",
              "June         227\n",
              "February     222\n",
              "March        215\n",
              "November     210\n",
              "July         194\n",
              "April        188\n",
              "May          183\n",
              "August       152\n",
              "September    134\n",
              "December      68\n",
              "Name: month20, dtype: int64"
            ]
          },
          "metadata": {},
          "execution_count": 35
        }
      ]
    },
    {
      "cell_type": "code",
      "source": [
        "plt.figure(figsize=(10,5))\n",
        "ax =sns.countplot(x = 'month20', data=df, palette=\"inferno\")\n",
        "plt.xticks(rotation=70)"
      ],
      "metadata": {
        "colab": {
          "base_uri": "https://localhost:8080/",
          "height": 415
        },
        "id": "s6mQCF2Gspzh",
        "outputId": "d4468732-30c8-4485-a072-1f1c33f3fa63"
      },
      "execution_count": 36,
      "outputs": [
        {
          "output_type": "execute_result",
          "data": {
            "text/plain": [
              "(array([ 0,  1,  2,  3,  4,  5,  6,  7,  8,  9, 10, 11]),\n",
              " <a list of 12 Text major ticklabel objects>)"
            ]
          },
          "metadata": {},
          "execution_count": 36
        },
        {
          "output_type": "display_data",
          "data": {
            "text/plain": [
              "<Figure size 720x360 with 1 Axes>"
            ],
            "image/png": "[encoded data removed]"
          },
          "metadata": {
            "needs_background": "light"
          }
        }
      ]
    },
    {
      "cell_type": "markdown",
      "source": [
        "### Visualization according to the top 10 company name application in year 2020."
      ],
      "metadata": {
        "id": "i0dpgC0Vwuqv"
      }
    },
    {
      "cell_type": "code",
      "source": [
        "df['APPLICANTCOMPANYNAME'].value_counts()"
      ],
      "metadata": {
        "colab": {
          "base_uri": "https://localhost:8080/"
        },
        "id": "cvEFe3ynr_uL",
        "outputId": "f9c3d3be-1d55-443d-d2c6-72b854885248"
      },
      "execution_count": 37,
      "outputs": [
        {
          "output_type": "execute_result",
          "data": {
            "text/plain": [
              "Crown Castle NG Atlantic LLC        792\n",
              "Cellco Partnership                  602\n",
              "AT&T Mobility                       363\n",
              "Potomac Electric Power Company      208\n",
              "Wash Gas & Light Co.                181\n",
              "                                   ... \n",
              "Pops Seabar LLC                       1\n",
              "El Tamarindo Restaurant               1\n",
              "Three Stars Brewing Company, Inc      1\n",
              "813181960                             1\n",
              "Isaac Engineering Group, LLC          1\n",
              "Name: APPLICANTCOMPANYNAME, Length: 148, dtype: int64"
            ]
          },
          "metadata": {},
          "execution_count": 37
        }
      ]
    },
    {
      "cell_type": "code",
      "source": [
        "applicant_yr20 = df_yr20['APPLICANTCOMPANYNAME'].value_counts()"
      ],
      "metadata": {
        "id": "-PfYy1AQ7XaA"
      },
      "execution_count": 38,
      "outputs": []
    },
    {
      "cell_type": "code",
      "source": [
        "applicant_yr20.sort_values(ascending=False)[:10]"
      ],
      "metadata": {
        "colab": {
          "base_uri": "https://localhost:8080/"
        },
        "id": "XG6vYSVn9EDe",
        "outputId": "735a1fe5-614e-4034-f400-ca6dbd5ff8f1"
      },
      "execution_count": 39,
      "outputs": [
        {
          "output_type": "execute_result",
          "data": {
            "text/plain": [
              "Potomac Electric Power Company      184\n",
              "Wash Gas & Light Co.                164\n",
              "Crown Castle NG Atlantic LLC        143\n",
              "Cellco Partnership                  127\n",
              "DCWater/OPS                         107\n",
              "DCWater/CIP                          79\n",
              "VERIZON                              42\n",
              "AT&T Mobility                        27\n",
              "RCN/Starpower Communications LLC     22\n",
              "District Bridges                     12\n",
              "Name: APPLICANTCOMPANYNAME, dtype: int64"
            ]
          },
          "metadata": {},
          "execution_count": 39
        }
      ]
    },
    {
      "cell_type": "code",
      "source": [
        "sns.catplot(x=\"APPLICANTCOMPANYNAME\", data=df_yr20, kind='count',\n",
        "                       hue='STATUS',order=df.APPLICANTCOMPANYNAME.value_counts().iloc[:10].index,height=8.27, aspect=11.7/8.27,palette=\"gist_stern\")\n",
        "plt.xticks(rotation=70)\n",
        "plt.xlabel(\"Company Name\")\n",
        "plt.ylabel(\"Application Number\")"
      ],
      "metadata": {
        "colab": {
          "base_uri": "https://localhost:8080/",
          "height": 788
        },
        "id": "3uFAoZkQ7d2C",
        "outputId": "fc954505-c484-44f8-ad73-45b566bec6fc"
      },
      "execution_count": 40,
      "outputs": [
        {
          "output_type": "execute_result",
          "data": {
            "text/plain": [
              "Text(26.1519705603039, 0.5, 'Application Number')"
            ]
          },
          "metadata": {},
          "execution_count": 40
        },
        {
          "output_type": "display_data",
          "data": {
            "text/plain": [
              "<Figure size 931.15x595.44 with 1 Axes>"
            ],
            "image/png": "[encoded data removed]"
          },
          "metadata": {
            "needs_background": "light"
          }
        }
      ]
    },
    {
      "cell_type": "markdown",
      "source": [
        "### Representing the application values according to the months in the year 2019. "
      ],
      "metadata": {
        "id": "smcQOg7_wbZ8"
      }
    },
    {
      "cell_type": "code",
      "source": [
        "df_yr19 = df.query(\"appliedyear == 2019\")"
      ],
      "metadata": {
        "id": "yNFsxBfNVoJB"
      },
      "execution_count": 41,
      "outputs": []
    },
    {
      "cell_type": "code",
      "source": [
        "df['month19'] = df_yr19['APPLICATIONDATE'].dt.month_name()"
      ],
      "metadata": {
        "id": "ndEu4Jk60TTf"
      },
      "execution_count": 42,
      "outputs": []
    },
    {
      "cell_type": "code",
      "source": [
        "df['month19'].value_counts()"
      ],
      "metadata": {
        "colab": {
          "base_uri": "https://localhost:8080/"
        },
        "id": "c2zLend40YZj",
        "outputId": "d16ab0da-b77b-487e-d6d2-0b6dbf0bcd14"
      },
      "execution_count": 43,
      "outputs": [
        {
          "output_type": "execute_result",
          "data": {
            "text/plain": [
              "November     830\n",
              "April        470\n",
              "December     314\n",
              "May           28\n",
              "August        28\n",
              "October       27\n",
              "September     14\n",
              "July           7\n",
              "June           4\n",
              "March          3\n",
              "January        1\n",
              "February       1\n",
              "Name: month19, dtype: int64"
            ]
          },
          "metadata": {},
          "execution_count": 43
        }
      ]
    },
    {
      "cell_type": "code",
      "source": [
        "plt.figure(figsize=(15,7))\n",
        "sns.countplot(x=\"month19\", data=df,order = df['month19'].value_counts().index);"
      ],
      "metadata": {
        "colab": {
          "base_uri": "https://localhost:8080/",
          "height": 442
        },
        "id": "VrMjtzzTJtrO",
        "outputId": "945b09b3-0721-4a62-f24f-3f10230d7dde"
      },
      "execution_count": 44,
      "outputs": [
        {
          "output_type": "display_data",
          "data": {
            "text/plain": [
              "<Figure size 1080x504 with 1 Axes>"
            ],
            "image/png": "[encoded data removed]"
          },
          "metadata": {
            "needs_background": "light"
          }
        }
      ]
    },
    {
      "cell_type": "markdown",
      "source": [
        "### Visualization according to the top 10 company name application in year 2019."
      ],
      "metadata": {
        "id": "m4siUY-xwO7u"
      }
    },
    {
      "cell_type": "code",
      "source": [
        "applicant_yr19 = df_yr19['APPLICANTCOMPANYNAME'].value_counts()"
      ],
      "metadata": {
        "id": "wi5j8i3f7INp"
      },
      "execution_count": 45,
      "outputs": []
    },
    {
      "cell_type": "code",
      "source": [
        "applicant_yr19.sort_values(ascending=False)[:10]"
      ],
      "metadata": {
        "colab": {
          "base_uri": "https://localhost:8080/"
        },
        "id": "G5QAaU2GcXNQ",
        "outputId": "7c51cbd7-0b23-4300-bde0-d086375c4eaa"
      },
      "execution_count": 46,
      "outputs": [
        {
          "output_type": "execute_result",
          "data": {
            "text/plain": [
              "Crown Castle NG Atlantic LLC        649\n",
              "Cellco Partnership                  475\n",
              "AT&T Mobility                       335\n",
              "Potomac Electric Power Company       24\n",
              "Wash Gas & Light Co.                 17\n",
              "DCWater/CIP                          15\n",
              "VERIZON                              11\n",
              "Test Carrier Inc.                     6\n",
              "RCN/Starpower Communications LLC      3\n",
              "DFM Development Services, LLC         2\n",
              "Name: APPLICANTCOMPANYNAME, dtype: int64"
            ]
          },
          "metadata": {},
          "execution_count": 46
        }
      ]
    },
    {
      "cell_type": "code",
      "source": [
        "sns.catplot(x=\"APPLICANTCOMPANYNAME\", data=df_yr19, kind='count',\n",
        "                       hue='STATUS',order=df.APPLICANTCOMPANYNAME.value_counts().iloc[:10].index,height=8.27, aspect=11.7/8.27,palette=\"Paired\")\n",
        "plt.xticks(rotation=70)\n",
        "plt.xlabel(\"Company Name\")\n",
        "plt.ylabel(\"Application Number\")"
      ],
      "metadata": {
        "colab": {
          "base_uri": "https://localhost:8080/",
          "height": 788
        },
        "id": "66nDoy-xcOh3",
        "outputId": "1d2d7ed9-aa60-403a-a51d-717bd9d274cd"
      },
      "execution_count": 47,
      "outputs": [
        {
          "output_type": "execute_result",
          "data": {
            "text/plain": [
              "Text(26.13880134140551, 0.5, 'Application Number')"
            ]
          },
          "metadata": {},
          "execution_count": 47
        },
        {
          "output_type": "display_data",
          "data": {
            "text/plain": [
              "<Figure size 931.15x595.44 with 1 Axes>"
            ],
            "image/png": "[encoded data removed]"
          },
          "metadata": {
            "needs_background": "light"
          }
        }
      ]
    },
    {
      "cell_type": "code",
      "source": [
        ""
      ],
      "metadata": {
        "id": "kKUXuGJdcS5N"
      },
      "execution_count": null,
      "outputs": []
    }
  ]
}